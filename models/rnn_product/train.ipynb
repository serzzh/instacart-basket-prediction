{
 "cells": [
  {
   "cell_type": "code",
   "execution_count": 3,
   "metadata": {},
   "outputs": [],
   "source": [
    "#!python3 prepare_product_data.py\n",
    "#5792 sec"
   ]
  },
  {
   "cell_type": "code",
   "execution_count": 3,
   "metadata": {},
   "outputs": [
    {
     "name": "stdout",
     "output_type": "stream",
     "text": [
      "Traceback (most recent call last):\n",
      "  File \"rnn_product.py\", line 254, in <module>\n",
      "    dr = DataReader(data_dir=os.path.join(base_dir, 'data'))\n",
      "  File \"rnn_product.py\", line 38, in __init__\n",
      "    data = [np.load(os.path.join(data_dir, '{}.npy'.format(i)), mmap_mode='r') for i in data_cols]\n",
      "  File \"rnn_product.py\", line 38, in <listcomp>\n",
      "    data = [np.load(os.path.join(data_dir, '{}.npy'.format(i)), mmap_mode='r') for i in data_cols]\n",
      "  File \"/usr/local/lib/python3.6/dist-packages/numpy/lib/npyio.py\", line 428, in load\n",
      "    fid = open(os_fspath(file), \"rb\")\n",
      "FileNotFoundError: [Errno 2] No such file or directory: './data/user_id.npy'\n"
     ]
    }
   ],
   "source": [
    "!python3 rnn_product.py"
   ]
  },
  {
   "cell_type": "code",
   "execution_count": 15,
   "metadata": {},
   "outputs": [],
   "source": [
    "import numpy as np\n",
    "aisle_id = np.load(\"arc1/aisle_id.npy\")\n",
    "days_since_prior_order_history = np.load(\"arc1/days_since_prior_order_history.npy\")\n",
    "days_since_prior_order_history = np.load(\"arc1/days_since_prior_order_history.npy\")"
   ]
  },
  {
   "cell_type": "code",
   "execution_count": 16,
   "metadata": {},
   "outputs": [
    {
     "name": "stdout",
     "output_type": "stream",
     "text": [
      "135142\n",
      "135142\n"
     ]
    }
   ],
   "source": [
    "print(len(aisle_id))\n",
    "print(len(days_since_prior_order_history))\n"
   ]
  },
  {
   "cell_type": "code",
   "execution_count": 11,
   "metadata": {},
   "outputs": [
    {
     "data": {
      "text/plain": [
       "array([[ 0, 15, 21, ...,  0,  0,  0],\n",
       "       [ 0, 15, 21, ...,  0,  0,  0],\n",
       "       [ 0, 15, 21, ...,  0,  0,  0],\n",
       "       ...,\n",
       "       [ 0,  6,  6, ...,  0,  0,  0],\n",
       "       [ 0,  6,  6, ...,  0,  0,  0],\n",
       "       [ 0,  6,  6, ...,  0,  0,  0]], dtype=int8)"
      ]
     },
     "execution_count": 11,
     "metadata": {},
     "output_type": "execute_result"
    }
   ],
   "source": [
    "days_since_prior_order_history"
   ]
  },
  {
   "cell_type": "code",
   "execution_count": 12,
   "metadata": {},
   "outputs": [
    {
     "data": {
      "text/plain": [
       "array([ 24,  77,  54, ...,  37, 117, 123], dtype=int16)"
      ]
     },
     "execution_count": 12,
     "metadata": {},
     "output_type": "execute_result"
    }
   ],
   "source": [
    "aisle_id"
   ]
  },
  {
   "cell_type": "code",
   "execution_count": null,
   "metadata": {},
   "outputs": [],
   "source": []
  }
 ],
 "metadata": {
  "kernelspec": {
   "display_name": "Python 3",
   "language": "python",
   "name": "python3"
  },
  "language_info": {
   "codemirror_mode": {
    "name": "ipython",
    "version": 3
   },
   "file_extension": ".py",
   "mimetype": "text/x-python",
   "name": "python",
   "nbconvert_exporter": "python",
   "pygments_lexer": "ipython3",
   "version": "3.6.9"
  }
 },
 "nbformat": 4,
 "nbformat_minor": 4
}
